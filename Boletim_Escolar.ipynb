{
  "nbformat": 4,
  "nbformat_minor": 0,
  "metadata": {
    "colab": {
      "name": "Boletim Escolar.ipynb",
      "provenance": []
    },
    "kernelspec": {
      "name": "python3",
      "display_name": "Python 3"
    },
    "language_info": {
      "name": "python"
    }
  },
  "cells": [
    {
      "cell_type": "markdown",
      "source": [
        "## Dados basicos Aluno e do ano letivo"
      ],
      "metadata": {
        "id": "vrEttwZhM_1-"
      }
    },
    {
      "cell_type": "code",
      "execution_count": 82,
      "metadata": {
        "id": "7nVETiM1G-eU"
      },
      "outputs": [],
      "source": [
        "from random import randrange\n",
        "import matplotlib.pyplot as plt\n",
        "\n",
        "nome_aluno = \"Henrique Freitas\"\n",
        "serie_aluno = \"1° Ano\"\n",
        "bimestres = ['1° bimestre', '2° bimestre', '3° bimestre', '4° bimestre']\n",
        "materias = ['Português', 'Matemática', 'Geografia', 'História', 'Biologia']"
      ]
    },
    {
      "cell_type": "markdown",
      "source": [
        "## Criando as listas de notas das materias, gerando as notas de forma aleatoria e inserindo-as nas listas\n"
      ],
      "metadata": {
        "id": "gEBodJRWNEn3"
      }
    },
    {
      "cell_type": "code",
      "source": [
        "\n",
        "notas_portugues = []\n",
        "notas_matematica = []\n",
        "notas_geografia = []\n",
        "notas_historia = []\n",
        "notas_biologia = []\n",
        "\n",
        "# gerando notas Português\n",
        "for nota in range(len(bimestres)):\n",
        "  notas_portugues.append(randrange(0,11))\n",
        "\n",
        "# gerando notas Matemática\n",
        "for nota in range(len(bimestres)):\n",
        "  notas_matematica.append(randrange(0,11))\n",
        "\n",
        "# gerando notas Geografia\n",
        "for nota in range(len(bimestres)):\n",
        "  notas_geografia.append(randrange(0,11))\n",
        "\n",
        "# gerando notas História\n",
        "for nota in range(len(bimestres)):\n",
        "  notas_historia.append(randrange(0,11))\n",
        "\n",
        "# gerando notas Biologia\n",
        "for nota in range(len(bimestres)):\n",
        "  notas_biologia.append(randrange(0,11)) \n",
        "\n",
        "# Exibindo notas geradas\n",
        "\n",
        "print(f'Notas de {materias[0]}:', notas_portugues)\n",
        "print(f'Notas de {materias[1]}:', notas_matematica)\n",
        "print(f'Notas de {materias[2]}:', notas_geografia)\n",
        "print(f'Notas de {materias[3]}:', notas_historia)\n",
        "print(f'Notas de {materias[4]}:', notas_biologia)"
      ],
      "metadata": {
        "colab": {
          "base_uri": "https://localhost:8080/"
        },
        "id": "KHRW8uMntE0C",
        "outputId": "4781312d-d280-4706-9382-55ca4363defb"
      },
      "execution_count": 83,
      "outputs": [
        {
          "output_type": "stream",
          "name": "stdout",
          "text": [
            "Notas de Português: [3, 8, 9, 5]\n",
            "Notas de Matemática: [6, 4, 8, 4]\n",
            "Notas de Geografia: [9, 7, 2, 8]\n",
            "Notas de História: [4, 10, 8, 0]\n",
            "Notas de Biologia: [5, 8, 3, 10]\n"
          ]
        }
      ]
    },
    {
      "cell_type": "markdown",
      "source": [
        "## Soma das notas das materias durante os bimestres\n"
      ],
      "metadata": {
        "id": "BIy0NnXvNRL1"
      }
    },
    {
      "cell_type": "code",
      "source": [
        "\n",
        "media_portugues = sum(notas_portugues) / len(bimestres)\n",
        "media_matematica = sum(notas_matematica) / len(bimestres)\n",
        "media_geografia = sum(notas_geografia) / len(bimestres)\n",
        "media_historia = sum(notas_historia) / len(bimestres)\n",
        "media_biologia = sum(notas_biologia) / len(bimestres)"
      ],
      "metadata": {
        "id": "X1W0VzNxISIY"
      },
      "execution_count": 84,
      "outputs": []
    },
    {
      "cell_type": "markdown",
      "source": [
        "## Condicional para verificar a situação do aluno, se passou ou reprovou\n"
      ],
      "metadata": {
        "id": "bH9mf5_HNTKJ"
      }
    },
    {
      "cell_type": "code",
      "source": [
        "\n",
        "if media_portugues >= 5 and media_matematica >= 5 and media_geografia >= 5 and media_historia >= 5 and media_biologia >= 5:\n",
        "  situacao_aluno = 'Aprovado'\n",
        "elif (sum(media_portugues, media_matematica, media_geografia, media_historia, media_biologia) / 5) >= 7:\n",
        "  sutuacao_aluno = 'Aprovado'\n",
        "else:\n",
        "    situacao_aluno = 'Reprovado'\n",
        "\n",
        "print(situacao_aluno)"
      ],
      "metadata": {
        "colab": {
          "base_uri": "https://localhost:8080/"
        },
        "id": "-cF_itdICt__",
        "outputId": "ec8bc893-0ecb-4b9c-d262-65b2e60c68cd"
      },
      "execution_count": 208,
      "outputs": [
        {
          "output_type": "stream",
          "name": "stdout",
          "text": [
            "Aprovado\n"
          ]
        }
      ]
    },
    {
      "cell_type": "markdown",
      "source": [
        "## Criando estrutura de tabela do boletim\n"
      ],
      "metadata": {
        "id": "6Efug8KXNVle"
      }
    },
    {
      "cell_type": "code",
      "source": [
        "\n",
        "def boletim():\n",
        "  print(' _______________________________________________________________________________________________')\n",
        "  print('|                                                                                               |')\n",
        "  print('|                                        Boletim - 2022                                         |')\n",
        "  print('|_______________________________________________________________________________________________|')\n",
        "  print(f'| Nome do Aluno: {nome_aluno}\\t\\tSerie do Aluno: {serie_aluno}\\t\\t\\t\\t|')\n",
        "  print('|_______________________________________________________________________________________________|')\n",
        "  print(f'| Materias:\\t |           |  |            |  |           |   |          |    |          |    |')\n",
        "  print(f'|                | {materias[0]} |  | {materias[1]} |  | {materias[2]} |   | {materias[3]} |    | {materias[4]} |    |')\n",
        "  print('| Bimestres:     |___________|  |____________|  |___________|   |__________|    |__________|    |')\n",
        "  print(f'| {bimestres[0]}\\t |     {notas_portugues[0]}     |\\t|     {notas_matematica[0]}      |\\t|    {notas_geografia[0]}      |\\t|    {notas_historia[0]}     |\\t|    {notas_biologia[0]}     |\\t|')\n",
        "  print(f'| {bimestres[1]}\\t |     {notas_portugues[1]}     |\\t|     {notas_matematica[1]}      |\\t|    {notas_geografia[1]}      |\\t|    {notas_historia[1]}    |\\t|    {notas_biologia[1]}     |\\t|')\n",
        "  print(f'| {bimestres[2]}\\t |     {notas_portugues[2]}     |\\t|     {notas_matematica[2]}      |\\t|    {notas_geografia[2]}      |\\t|    {notas_historia[2]}     |\\t|    {notas_biologia[2]}     |\\t|')\n",
        "  print(f'| {bimestres[3]}\\t |     {notas_portugues[3]}     |\\t|     {notas_matematica[3]}      |\\t|    {notas_geografia[3]}      |\\t|    {notas_historia[3]}     |\\t|    {notas_biologia[3]}    |\\t|')\n",
        "  print(f'| Média Notas:   |    {media_portugues}   |\\t|    {media_matematica}     |\\t|    {media_geografia}    |\\t|   {media_historia}    |\\t|   {media_biologia}    |\\t|')\n",
        "  print('|                |___________|  |____________|  |___________|   |__________|    |__________|    |')\n",
        "  print('|                                                                                               |')\n",
        "  print(f'| Situação Aluno: {situacao_aluno}                                                                      |')\n",
        "  print('|_______________________________________________________________________________________________|')\n",
        "  \n",
        " "
      ],
      "metadata": {
        "id": "Kl2Ef3hTx9iX"
      },
      "execution_count": 217,
      "outputs": []
    },
    {
      "cell_type": "code",
      "source": [
        "boletim()"
      ],
      "metadata": {
        "colab": {
          "base_uri": "https://localhost:8080/"
        },
        "id": "-UimTjFnzVQs",
        "outputId": "c60d703a-539e-4d21-a52c-541c376597e3"
      },
      "execution_count": 218,
      "outputs": [
        {
          "output_type": "stream",
          "name": "stdout",
          "text": [
            " _______________________________________________________________________________________________\n",
            "|                                                                                               |\n",
            "|                                        Boletim - 2022                                         |\n",
            "|_______________________________________________________________________________________________|\n",
            "| Nome do Aluno: Henrique Freitas\t\tSerie do Aluno: 1° Ano\t\t\t\t|\n",
            "|_______________________________________________________________________________________________|\n",
            "| Materias:\t |           |  |            |  |           |   |          |    |          |    |\n",
            "|                | Português |  | Matemática |  | Geografia |   | História |    | Biologia |    |\n",
            "| Bimestres:     |___________|  |____________|  |___________|   |__________|    |__________|    |\n",
            "| 1° bimestre\t |     3     |\t|     6      |\t|    9      |\t|    4     |\t|    5     |\t|\n",
            "| 2° bimestre\t |     8     |\t|     4      |\t|    7      |\t|    10    |\t|    8     |\t|\n",
            "| 3° bimestre\t |     9     |\t|     8      |\t|    2      |\t|    8     |\t|    3     |\t|\n",
            "| 4° bimestre\t |     5     |\t|     4      |\t|    8      |\t|    0     |\t|    10    |\t|\n",
            "| Média Notas:   |    6.25   |\t|    5.5     |\t|    6.5    |\t|   5.5    |\t|   6.5    |\t|\n",
            "|                |___________|  |____________|  |___________|   |__________|    |__________|    |\n",
            "|                                                                                               |\n",
            "| Situação Aluno: Aprovado                                                                      |\n",
            "|_______________________________________________________________________________________________|\n"
          ]
        }
      ]
    },
    {
      "cell_type": "markdown",
      "source": [
        "##Graficos e Analises de Desempenho"
      ],
      "metadata": {
        "id": "Y5KiRwjJNXgN"
      }
    },
    {
      "cell_type": "code",
      "source": [
        ""
      ],
      "metadata": {
        "id": "8oAS1LwtM6jO"
      },
      "execution_count": null,
      "outputs": []
    }
  ]
}